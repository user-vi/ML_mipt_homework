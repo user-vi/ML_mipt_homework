{
 "cells": [
  {
   "cell_type": "code",
   "execution_count": 5,
   "metadata": {
    "collapsed": true
   },
   "outputs": [],
   "source": [
    "def extract_info(obj):\n",
    "    TEXT_LABLE = \"article-text response-page__text markup-inside-small markup-inside-small--bullet\"\n",
    "    RATING_LABLE = \"color-gray-gray font-size-small margin-bottom-default margin-top-small\"\n",
    "    CITY_LABLE = \"response-page__bank-meta font-size-medium color-gray-burn\"\n",
    "    BANK_LABLE = \"header-h2 display-inline margin-right-x-small\"\n",
    "    TITLE_LABLE = \"header-h0 response-page__title\"\n",
    "    \n",
    "    text = obj.find(\"div\", attrs={\"class\": TEXT_LABLE}).text.strip().replace('\\xa0', '')\n",
    "    bank = obj.find(\"div\", attrs={\"class\": BANK_LABLE}).text.strip()\n",
    "    title = obj.find(\"h0\", attrs={\"class\": TITLE_LABLE}).text.strip()\n",
    "    city = obj.find(\"div\", attrs={\"class\": CITY_LABLE}).text.split(', ')\n",
    "    rating = obj.find(\"div\", attrs={\"class\": RATING_LABLE}).text.strip()\n",
    "    \n",
    "    return {\n",
    "        'bank': bank,\n",
    "        'city': city[1].split('.')[-1].strip() if len(city) > 1 else None,\n",
    "        'title': title,\n",
    "        'text': text,\n",
    "        'rating': None if 'БЕЗ ОЦЕНКИ' in rating else int(rating.split()[1])\n",
    "    }"
   ]
  },
  {
   "cell_type": "code",
   "execution_count": 6,
   "metadata": {
    "collapsed": true
   },
   "outputs": [],
   "source": [
    "import  requests\n",
    "from bs4 import BeautifulSoup\n",
    "import time"
   ]
  },
  {
   "cell_type": "code",
   "execution_count": null,
   "metadata": {
    "collapsed": true
   },
   "outputs": [],
   "source": []
  },
  {
   "cell_type": "code",
   "execution_count": 7,
   "metadata": {},
   "outputs": [
    {
     "name": "stdout",
     "output_type": "stream",
     "text": [
      "page_num 38089\n",
      "page_num 38114\n",
      "page_num 38302\n",
      "page_num 38312\n",
      "page_num 38323\n",
      "page_num 38408\n",
      "page_num 38411\n",
      "page_num 38447\n",
      "page_num 38573\n",
      "page_num 38594\n",
      "page_num 38914\n",
      "page_num 39008\n",
      "page_num 39017\n",
      "page_num 39018\n",
      "page_num 39019\n",
      "page_num 39522\n",
      "page_num 39523\n",
      "page_num 39558\n",
      "page_num 39575\n",
      "page_num 39576\n",
      "page_num 39624\n",
      "page_num 39642\n",
      "page_num 39800\n",
      "page_num 39922\n",
      "page_num 40024\n",
      "page_num 40132\n",
      "page_num 40279\n",
      "page_num 40319\n",
      "page_num 40328\n",
      "page_num 40549\n",
      "page_num 40614\n",
      "page_num 40615\n",
      "page_num 40616\n",
      "page_num 40617\n",
      "page_num 40632\n",
      "page_num 40703\n",
      "page_num 40892\n",
      "page_num 40908\n",
      "page_num 40982\n",
      "page_num 41143\n",
      "page_num 41161\n",
      "page_num 41164\n",
      "page_num 41166\n",
      "page_num 41176\n",
      "page_num 41186\n",
      "page_num 41187\n",
      "page_num 41263\n",
      "page_num 41353\n",
      "page_num 41377\n",
      "page_num 41444\n",
      "page_num 41458\n",
      "page_num 41585\n",
      "page_num 41611\n",
      "page_num 41627\n",
      "page_num 41634\n",
      "page_num 41667\n",
      "page_num 41728\n",
      "page_num 41729\n",
      "page_num 41732\n",
      "page_num 41753\n",
      "page_num 41755\n",
      "page_num 41756\n",
      "page_num 42048\n",
      "page_num 42105\n",
      "page_num 42132\n",
      "page_num 42134\n",
      "page_num 42136\n",
      "page_num 42162\n",
      "page_num 42229\n",
      "page_num 42348\n",
      "page_num 42354\n",
      "page_num 42355\n",
      "page_num 42356\n",
      "page_num 42451\n",
      "page_num 42475\n",
      "page_num 42550\n",
      "page_num 42560\n",
      "page_num 42582\n",
      "page_num 42583\n",
      "page_num 42712\n",
      "page_num 42816\n",
      "page_num 42906\n",
      "page_num 43025\n",
      "page_num 43163\n",
      "page_num 43167\n",
      "page_num 43168\n",
      "page_num 43192\n",
      "page_num 43227\n",
      "page_num 43303\n",
      "page_num 43392\n",
      "page_num 43462\n",
      "page_num 43467\n",
      "page_num 43477\n",
      "page_num 43510\n",
      "page_num 43512\n",
      "page_num 43520\n",
      "page_num 43522\n",
      "page_num 43751\n",
      "page_num 43754\n",
      "page_num 43776\n",
      "page_num 43826\n",
      "page_num 43863\n",
      "page_num 43961\n",
      "page_num 43977\n",
      "page_num 43983\n",
      "page_num 43984\n",
      "page_num 44006\n",
      "page_num 44105\n",
      "page_num 44107\n",
      "page_num 44108\n",
      "page_num 44109\n",
      "page_num 44116\n",
      "page_num 44232\n",
      "page_num 44414\n",
      "page_num 44432\n",
      "page_num 44451\n",
      "page_num 44457\n",
      "page_num 44522\n",
      "page_num 44744\n",
      "page_num 44794\n",
      "page_num 44864\n",
      "page_num 44870\n",
      "page_num 44872\n",
      "page_num 44883\n",
      "page_num 44911\n",
      "page_num 44997\n",
      "Wall time: 1h 16min\n"
     ]
    }
   ],
   "source": [
    "%%time\n",
    "resp = []\n",
    "\n",
    "for page_num in range(37976, 45000):\n",
    "    time.sleep(0.5)\n",
    "    \n",
    "    url = \"http://www.banki.ru/services/responses/bank/response/{}/\".format(page_num)\n",
    "    response = requests.get(url)\n",
    "    if response.status_code != 200: continue\n",
    "        \n",
    "    print('page_num {}'.format(page_num))\n",
    "    bs4_object = BeautifulSoup(response.text, \"html5lib\")\n",
    "    resp.append(extract_info(bs4_object))"
   ]
  },
  {
   "cell_type": "code",
   "execution_count": 10,
   "metadata": {},
   "outputs": [
    {
     "data": {
      "text/plain": [
       "126"
      ]
     },
     "execution_count": 10,
     "metadata": {},
     "output_type": "execute_result"
    }
   ],
   "source": [
    "len(resp)"
   ]
  },
  {
   "cell_type": "code",
   "execution_count": 11,
   "metadata": {
    "collapsed": true
   },
   "outputs": [],
   "source": [
    "import json\n",
    "\n",
    "with open('banks.json', 'w') as f:\n",
    "    json.dump(resp, f)"
   ]
  },
  {
   "cell_type": "code",
   "execution_count": null,
   "metadata": {
    "collapsed": true
   },
   "outputs": [],
   "source": []
  }
 ],
 "metadata": {
  "kernelspec": {
   "display_name": "Python 3",
   "language": "python",
   "name": "python3"
  },
  "language_info": {
   "codemirror_mode": {
    "name": "ipython",
    "version": 3
   },
   "file_extension": ".py",
   "mimetype": "text/x-python",
   "name": "python",
   "nbconvert_exporter": "python",
   "pygments_lexer": "ipython3",
   "version": "3.6.3"
  }
 },
 "nbformat": 4,
 "nbformat_minor": 2
}
